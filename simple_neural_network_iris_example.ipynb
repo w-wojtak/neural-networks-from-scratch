{
  "nbformat": 4,
  "nbformat_minor": 0,
  "metadata": {
    "colab": {
      "provenance": []
    },
    "kernelspec": {
      "name": "python3",
      "display_name": "Python 3"
    },
    "language_info": {
      "name": "python"
    }
  },
  "cells": [
    {
      "cell_type": "markdown",
      "source": [
        "# Building a Simple Neural Network from Scratch\n",
        "\n",
        "In this notebook, I demonstrate how to implement a simple neural network from scratch using Python and NumPy. The example showcases the full process, from data preprocessing to forward and backward propagation, and includes loss calculation and parameter updates. It provides a step-by-step guide to help you understand the inner workings of a neural network, including the activation functions and gradient computation. This notebook serves as a foundation for more complex models."
      ],
      "metadata": {
        "id": "b6sstLlX7B_9"
      }
    },
    {
      "cell_type": "markdown",
      "source": [
        "This `NeuralNetwork` class implements a simple feedforward neural network with one hidden layer. It uses the ReLU activation function for the hidden layer and softmax for the output layer. The class supports forward propagation, backpropagation for training, and loss computation using cross-entropy. It includes methods for training the model with gradient descent, updating weights, and plotting the loss over epochs. The `predict` method outputs the class with the highest probability from the softmax activation."
      ],
      "metadata": {
        "id": "f372EjHo7uBI"
      }
    },
    {
      "cell_type": "code",
      "source": [
        "import numpy as np\n",
        "import matplotlib.pyplot as plt\n",
        "\n",
        "class NeuralNetwork:\n",
        "  def __init__(self, input_size, hidden_size, output_size, learning_rate=0.01):\n",
        "    self.weights_input_to_hidden = 0.01 * np.random.rand(input_size, hidden_size)\n",
        "    self.weights_hidden_to_output = 0.01 * np.random.rand(hidden_size, output_size)\n",
        "\n",
        "    self.bias_hidden = np.zeros((1, hidden_size))\n",
        "    self.bias_output = np.zeros((1, output_size))\n",
        "\n",
        "    self.learning_rate = learning_rate\n",
        "\n",
        "  def relu(self, x):\n",
        "    return np.maximum(0, x)\n",
        "\n",
        "  def relu_derivative(self, x):\n",
        "    return (x>0).astype(float)\n",
        "\n",
        "  def softmax(self, x):\n",
        "    exp_x = np.exp(x - np.max(x, axis=1, keepdims=True))\n",
        "    return exp_x / np.sum(exp_x, axis=1, keepdims=True)\n",
        "\n",
        "  def compute_loss(self, y_true, y_pred):\n",
        "    m = y_true.shape[0]\n",
        "    loss = -np.sum(y_true * np.log(y_pred + 1e-9)) / m\n",
        "    return loss\n",
        "\n",
        "  def forward(self, x):\n",
        "    self.z_hidden = np.dot(x, self.weights_input_to_hidden) + self.bias_hidden\n",
        "    self.a_hidden = self.relu(self.z_hidden)\n",
        "\n",
        "    self.z_output = np.dot(self.a_hidden, self.weights_hidden_to_output) + self.bias_output\n",
        "    self.a_output = self.softmax(self.z_output)\n",
        "\n",
        "    return self.a_output\n",
        "\n",
        "  def backward(self, x, y_true):\n",
        "    m = y_true.shape[0]\n",
        "\n",
        "    # Gradients for output layer\n",
        "    dz_output = self.a_output - y_true\n",
        "    dw_hidden_to_output = np.dot(self.a_hidden.T, dz_output) / m\n",
        "    db_output = np.sum(dz_output, axis=0, keepdims=True) / m\n",
        "\n",
        "    # Gradients for hidden layer\n",
        "    da_hidden = np.dot(dz_output, self.weights_hidden_to_output.T)\n",
        "    dz_hidden = da_hidden * self.relu_derivative(self.z_hidden)\n",
        "    dw_input_to_hidden = np.dot(x.T, dz_hidden) / m\n",
        "    db_hidden = np.sum(dz_hidden, axis=0, keepdims=True) / m\n",
        "\n",
        "    return dw_input_to_hidden, db_hidden, dw_hidden_to_output, db_output\n",
        "\n",
        "  def update_parameters(self, dw_input_to_hidden, db_hidden, dw_hidden_to_output, db_output):\n",
        "    self.weights_input_to_hidden -= self.learning_rate * dw_input_to_hidden\n",
        "    self.bias_hidden -= self.learning_rate * db_hidden\n",
        "\n",
        "    self.weights_hidden_to_output -= self.learning_rate * dw_hidden_to_output\n",
        "    self.bias_output -= self.learning_rate * db_output\n",
        "\n",
        "  def train(self, x, y_true, epochs):\n",
        "    loss_history = []  # List to store loss values\n",
        "    for epoch in range(epochs):\n",
        "      # forward pass\n",
        "      y_pred = self.forward(x)\n",
        "\n",
        "      # compute loss\n",
        "      loss = self.compute_loss(y_true, y_pred)\n",
        "      loss_history.append(loss)  # Store the loss value\n",
        "\n",
        "      # backward pass\n",
        "      dw_input_to_hidden, db_hidden, dw_hidden_to_output, db_output = self.backward(x, y_true)\n",
        "\n",
        "      # update parameters\n",
        "      self.update_parameters(dw_input_to_hidden, db_hidden, dw_hidden_to_output, db_output)\n",
        "\n",
        "      # print loss\n",
        "      if epoch % 100 == 0:\n",
        "        print(f\"Epoch {epoch}, loss: {loss}\")\n",
        "\n",
        "        # Plotting the loss after training\n",
        "    plt.plot(range(0, epochs, 100), loss_history[::100])\n",
        "    plt.xlabel('Epochs (every 100 steps)')\n",
        "    plt.ylabel('Loss')\n",
        "    plt.title('Loss over Epochs')\n",
        "    plt.show()\n",
        "\n",
        "  def predict(self, x):\n",
        "    y_pred = self.forward(x)\n",
        "    return np.argmax(y_pred, axis=1)\n"
      ],
      "metadata": {
        "id": "pcOZ-KNX7LdO"
      },
      "execution_count": 1,
      "outputs": []
    },
    {
      "cell_type": "markdown",
      "source": [
        "This code demonstrates training and testing a neural network on the Iris dataset.\n",
        "\n",
        "1. **Load Data**: The Iris dataset is loaded, and the target labels are one-hot encoded using `OneHotEncoder`.\n",
        "2. **Split Data**: The dataset is split into training and testing sets with `train_test_split`.\n",
        "3. **Initialize and Train Network**: A neural network is created with 4 input features, 20 hidden neurons, and 3 output classes. It is trained for 5000 epochs using the training data.\n",
        "4. **Test Network**: After training, the network is tested on the test set. The predictions are converted to class labels using `np.argmax()`.\n",
        "5. **Calculate Accuracy**: The accuracy is calculated by comparing predicted labels with actual test labels and is printed as a percentage."
      ],
      "metadata": {
        "id": "Sg8q1t7RAK3s"
      }
    },
    {
      "cell_type": "code",
      "source": [
        "from sklearn.datasets import load_iris\n",
        "from sklearn.preprocessing import OneHotEncoder\n",
        "from sklearn.model_selection import train_test_split\n",
        "import numpy as np\n",
        "\n",
        "# Load the Iris dataset\n",
        "iris_data = load_iris()\n",
        "x = iris_data.data\n",
        "y_ = iris_data.target.reshape(-1, 1)  # Convert target to a column vector\n",
        "\n",
        "# One Hot encode the class labels\n",
        "encoder = OneHotEncoder(sparse_output=False)\n",
        "y = encoder.fit_transform(y_)\n",
        "\n",
        "# Split the data into training and testing sets\n",
        "train_x, test_x, train_y, test_y = train_test_split(x, y, test_size=0.20, random_state=42)\n",
        "\n",
        "# Initialize the Neural Network\n",
        "nn = NeuralNetwork(input_size=4, hidden_size=20, output_size=3, learning_rate=0.025)\n",
        "\n",
        "# Train the network\n",
        "print(\"Training the network...\")\n",
        "nn.train(train_x, train_y, epochs=5000)\n",
        "\n",
        "# Test the network\n",
        "print(\"Testing the network...\")\n",
        "y_pred = nn.forward(test_x)\n",
        "\n",
        "# Convert predictions to class labels\n",
        "y_pred_labels = np.argmax(y_pred, axis=1)\n",
        "test_y_labels = np.argmax(test_y, axis=1)\n",
        "\n",
        "# Calculate accuracy\n",
        "accuracy = np.mean(y_pred_labels == test_y_labels)\n",
        "print(f\"Accuracy: {accuracy * 100:.2f}%\")\n"
      ],
      "metadata": {
        "colab": {
          "base_uri": "https://localhost:8080/",
          "height": 1000
        },
        "id": "3lJKIUgTzw3e",
        "outputId": "3992fd2f-c038-434f-d70f-c99b77398291"
      },
      "execution_count": 2,
      "outputs": [
        {
          "output_type": "stream",
          "name": "stdout",
          "text": [
            "Training the network...\n",
            "Epoch 0, loss: 1.0985800217802477\n",
            "Epoch 100, loss: 1.0521539774602962\n",
            "Epoch 200, loss: 0.787357798917628\n",
            "Epoch 300, loss: 0.5678775734915971\n",
            "Epoch 400, loss: 0.4164566546436456\n",
            "Epoch 500, loss: 0.3230614656554923\n",
            "Epoch 600, loss: 0.24824782979298915\n",
            "Epoch 700, loss: 0.19518069357848244\n",
            "Epoch 800, loss: 0.16032086413827498\n",
            "Epoch 900, loss: 0.13741498547109363\n",
            "Epoch 1000, loss: 0.12186729865866625\n",
            "Epoch 1100, loss: 0.11088802263598735\n",
            "Epoch 1200, loss: 0.10283892436405247\n",
            "Epoch 1300, loss: 0.0967413524054619\n",
            "Epoch 1400, loss: 0.09199117087919452\n",
            "Epoch 1500, loss: 0.08820182548755882\n",
            "Epoch 1600, loss: 0.08511736716482504\n",
            "Epoch 1700, loss: 0.08256295504611022\n",
            "Epoch 1800, loss: 0.08041577027756941\n",
            "Epoch 1900, loss: 0.07858738009431014\n",
            "Epoch 2000, loss: 0.07701269825410921\n",
            "Epoch 2100, loss: 0.07564287384058385\n",
            "Epoch 2200, loss: 0.07444060255754645\n",
            "Epoch 2300, loss: 0.07337695550504225\n",
            "Epoch 2400, loss: 0.07242918177871255\n",
            "Epoch 2500, loss: 0.07157916952324044\n",
            "Epoch 2600, loss: 0.0708123124045044\n",
            "Epoch 2700, loss: 0.07011673306570852\n",
            "Epoch 2800, loss: 0.0694826885910692\n",
            "Epoch 2900, loss: 0.0689021288929016\n",
            "Epoch 3000, loss: 0.0683683270305397\n",
            "Epoch 3100, loss: 0.06787556087370324\n",
            "Epoch 3200, loss: 0.06741904841347408\n",
            "Epoch 3300, loss: 0.06699469590368988\n",
            "Epoch 3400, loss: 0.066599012426696\n",
            "Epoch 3500, loss: 0.0662289868736976\n",
            "Epoch 3600, loss: 0.06588200512933183\n",
            "Epoch 3700, loss: 0.06555576852589898\n",
            "Epoch 3800, loss: 0.0652482812176509\n",
            "Epoch 3900, loss: 0.06495779526110287\n",
            "Epoch 4000, loss: 0.06468278983889998\n",
            "Epoch 4100, loss: 0.06442189149215825\n",
            "Epoch 4200, loss: 0.06417389937947084\n",
            "Epoch 4300, loss: 0.06393774555440931\n",
            "Epoch 4400, loss: 0.06371247539093614\n",
            "Epoch 4500, loss: 0.0634972268447334\n",
            "Epoch 4600, loss: 0.06329123180590017\n",
            "Epoch 4700, loss: 0.06309379513195967\n",
            "Epoch 4800, loss: 0.06290429976563612\n",
            "Epoch 4900, loss: 0.06272218541593827\n"
          ]
        },
        {
          "output_type": "display_data",
          "data": {
            "text/plain": [
              "<Figure size 640x480 with 1 Axes>"
            ],
            "image/png": "[encoded data removed]"
          },
          "metadata": {}
        },
        {
          "output_type": "stream",
          "name": "stdout",
          "text": [
            "Testing the network...\n",
            "Accuracy: 100.00%\n"
          ]
        }
      ]
    }
  ]
}